{
 "cells": [
  {
   "cell_type": "markdown",
   "id": "599c61dc",
   "metadata": {},
   "source": [
    "# 0.0 Imports"
   ]
  },
  {
   "cell_type": "code",
   "execution_count": 1,
   "id": "6b2a5a66",
   "metadata": {
    "ExecuteTime": {
     "end_time": "2022-05-13T16:01:22.292122Z",
     "start_time": "2022-05-13T16:01:20.782029Z"
    }
   },
   "outputs": [],
   "source": [
    "import pandas as pd\n",
    "import inflection\n",
    "import math\n",
    "import seaborn as sns\n",
    "from matplotlib import pyplot as plt\n",
    "import datetime\n"
   ]
  },
  {
   "cell_type": "markdown",
   "id": "4ba78ba5",
   "metadata": {},
   "source": [
    "## 0.1 Helper Functions"
   ]
  },
  {
   "cell_type": "markdown",
   "id": "979296ec",
   "metadata": {},
   "source": [
    "## 0.2 Loading data\n"
   ]
  },
  {
   "cell_type": "code",
   "execution_count": 9,
   "id": "a13b0b2e",
   "metadata": {
    "ExecuteTime": {
     "end_time": "2022-05-13T16:02:56.596085Z",
     "start_time": "2022-05-13T16:02:55.606059Z"
    }
   },
   "outputs": [],
   "source": [
    "df_sales_raw = pd.read_csv('/home/andressasantos/Documents/comunidade_ds/ds_producao/data/train.csv', low_memory = False)\n",
    "df_store_raw = pd.read_csv('/home/andressasantos/Documents/comunidade_ds/ds_producao/data/store.csv', low_memory = False)\n",
    "\n",
    "\n",
    "#merge\n",
    "df_raw = pd.merge (df_sales_raw, df_store_raw, how='left', on='Store' )\n",
    "\n"
   ]
  },
  {
   "cell_type": "markdown",
   "id": "ecaf3215",
   "metadata": {},
   "source": [
    "# 1.0 Descricao dos dados"
   ]
  },
  {
   "cell_type": "code",
   "execution_count": null,
   "id": "63a8407f",
   "metadata": {},
   "outputs": [],
   "source": []
  },
  {
   "cell_type": "code",
   "execution_count": 10,
   "id": "ca4df653",
   "metadata": {
    "ExecuteTime": {
     "end_time": "2022-05-13T16:03:02.340370Z",
     "start_time": "2022-05-13T16:03:01.935860Z"
    }
   },
   "outputs": [],
   "source": [
    "df1 = df_raw.copy()"
   ]
  },
  {
   "cell_type": "markdown",
   "id": "f037c19d",
   "metadata": {},
   "source": [
    "## 1.1 Rename Columns"
   ]
  },
  {
   "cell_type": "code",
   "execution_count": 11,
   "id": "075139c5",
   "metadata": {
    "ExecuteTime": {
     "end_time": "2022-05-13T16:03:05.172878Z",
     "start_time": "2022-05-13T16:03:05.159653Z"
    }
   },
   "outputs": [],
   "source": [
    "cols_old= ['Store', 'DayOfWeek', 'Date', 'Sales', 'Customers', 'Open', 'Promo','StateHoliday', 'SchoolHoliday', \n",
    "           'StoreType', 'Assortment','CompetitionDistance', 'CompetitionOpenSinceMonth',\n",
    "           'CompetitionOpenSinceYear', 'Promo2', 'Promo2SinceWeek',\n",
    "           'Promo2SinceYear', 'PromoInterval']\n",
    "\n",
    "snakecase = lambda x: inflection.underscore (x)\n",
    "\n",
    "cols_new = list (map(snakecase, cols_old))\n",
    "\n",
    "#rename\n",
    "df1.columns = cols_new"
   ]
  },
  {
   "cell_type": "markdown",
   "id": "d3a82c06",
   "metadata": {},
   "source": [
    "## 1.2 Data Dimensions "
   ]
  },
  {
   "cell_type": "code",
   "execution_count": 12,
   "id": "630744c5",
   "metadata": {
    "ExecuteTime": {
     "end_time": "2022-05-13T16:03:08.303545Z",
     "start_time": "2022-05-13T16:03:08.290675Z"
    }
   },
   "outputs": [
    {
     "name": "stdout",
     "output_type": "stream",
     "text": [
      "number of Rows: 1017209\n",
      "number of Collumns: 18\n"
     ]
    }
   ],
   "source": [
    "print('number of Rows: {}'. format (df1.shape[0]))\n",
    "print('number of Collumns: {}'. format (df1.shape[1]))\n"
   ]
  },
  {
   "cell_type": "markdown",
   "id": "c9a733cf",
   "metadata": {},
   "source": [
    "## 1.3 Data Types"
   ]
  },
  {
   "cell_type": "code",
   "execution_count": 13,
   "id": "d41a64fd",
   "metadata": {
    "ExecuteTime": {
     "end_time": "2022-05-13T16:03:16.352177Z",
     "start_time": "2022-05-13T16:03:16.242286Z"
    }
   },
   "outputs": [],
   "source": [
    "df1['date']= pd.to_datetime (df1['date'])\n"
   ]
  },
  {
   "cell_type": "markdown",
   "id": "ade1159e",
   "metadata": {},
   "source": [
    "## 1.4 Check NA"
   ]
  },
  {
   "cell_type": "code",
   "execution_count": 14,
   "id": "17bf2110",
   "metadata": {
    "ExecuteTime": {
     "end_time": "2022-05-13T16:03:18.560696Z",
     "start_time": "2022-05-13T16:03:18.153138Z"
    }
   },
   "outputs": [
    {
     "data": {
      "text/plain": [
       "store                                0\n",
       "day_of_week                          0\n",
       "date                                 0\n",
       "sales                                0\n",
       "customers                            0\n",
       "open                                 0\n",
       "promo                                0\n",
       "state_holiday                        0\n",
       "school_holiday                       0\n",
       "store_type                           0\n",
       "assortment                           0\n",
       "competition_distance              2642\n",
       "competition_open_since_month    323348\n",
       "competition_open_since_year     323348\n",
       "promo2                               0\n",
       "promo2_since_week               508031\n",
       "promo2_since_year               508031\n",
       "promo_interval                  508031\n",
       "dtype: int64"
      ]
     },
     "execution_count": 14,
     "metadata": {},
     "output_type": "execute_result"
    }
   ],
   "source": [
    "df1.isna().sum()"
   ]
  },
  {
   "cell_type": "markdown",
   "id": "4ecf4a7b",
   "metadata": {},
   "source": [
    "## 1.5 Fillout NA"
   ]
  },
  {
   "cell_type": "code",
   "execution_count": 15,
   "id": "e692725d",
   "metadata": {
    "ExecuteTime": {
     "end_time": "2022-05-13T16:03:20.332612Z",
     "start_time": "2022-05-13T16:03:20.320503Z"
    }
   },
   "outputs": [
    {
     "data": {
      "text/plain": [
       "75860.0"
      ]
     },
     "execution_count": 15,
     "metadata": {},
     "output_type": "execute_result"
    }
   ],
   "source": [
    "df1['competition_distance'].max()"
   ]
  },
  {
   "cell_type": "code",
   "execution_count": 16,
   "id": "825ac5b2",
   "metadata": {
    "ExecuteTime": {
     "end_time": "2022-05-13T16:04:22.505737Z",
     "start_time": "2022-05-13T16:03:22.758647Z"
    }
   },
   "outputs": [],
   "source": [
    "#competition_distance \n",
    "df1['competition_distance'] = df1['competition_distance'].apply(lambda x : 200000 if math.isnan(x) else x)\n",
    "\n",
    "#competition_open_since_month\n",
    "df1['competition_open_since_month'] = df1.apply (lambda x: x['date'].month if math.isnan(x['competition_open_since_month']) else x['competition_open_since_month'], axis=1) \n",
    "\n",
    "#competition_open_since_year  \n",
    "\n",
    "df1['competition_open_since_year'] = df1.apply (lambda x: x['date'].year if math.isnan(x['competition_open_since_year']) else x['competition_open_since_year'], axis=1) \n",
    "\n",
    "                            \n",
    "#promo2_since_week    \n",
    "df1['promo2_since_week'] = df1.apply (lambda x: x['date'].week if math.isnan(x['promo2_since_week']) else x['promo2_since_week'], axis=1)\n",
    "\n",
    "#promo2_since_year  \n",
    "\n",
    "df1['promo2_since_year'] = df1.apply (lambda x: x['date'].year if math.isnan(x['promo2_since_year']) else x['promo2_since_year'], axis=1)\n",
    "\n",
    "\n",
    "#promo_interval   \n",
    "month_map = {1: 'Jan', 2: 'Fev', 3: 'Mar', 4:'Apr', 5:'May', 6:'Jun', 7:'Jul', 8:'Aug', 9:'Sept', 10: 'Oct', 11: 'Nov', 12:'Dec'}\n",
    "\n",
    "df1['promo_interval'].fillna(0, inplace=True)\n",
    "df1['month_map'] = df1['date'].dt.month.map(month_map)\n",
    "\n",
    "\n",
    "df1['is_promo']  = df1[['promo_interval','month_map']].apply (lambda x: 0 if x['promo_interval'] == 0 else 1 \n",
    "                                                              if x['month_map'] in x['promo_interval']. split (',') else 0, axis=1)"
   ]
  },
  {
   "cell_type": "code",
   "execution_count": 17,
   "id": "173e65eb",
   "metadata": {
    "ExecuteTime": {
     "end_time": "2022-05-13T16:04:46.283648Z",
     "start_time": "2022-05-13T16:04:46.134575Z"
    }
   },
   "outputs": [
    {
     "data": {
      "text/html": [
       "<div>\n",
       "<style scoped>\n",
       "    .dataframe tbody tr th:only-of-type {\n",
       "        vertical-align: middle;\n",
       "    }\n",
       "\n",
       "    .dataframe tbody tr th {\n",
       "        vertical-align: top;\n",
       "    }\n",
       "\n",
       "    .dataframe thead th {\n",
       "        text-align: right;\n",
       "    }\n",
       "</style>\n",
       "<table border=\"1\" class=\"dataframe\">\n",
       "  <thead>\n",
       "    <tr style=\"text-align: right;\">\n",
       "      <th></th>\n",
       "      <th>index</th>\n",
       "      <th>465495</th>\n",
       "      <th>973603</th>\n",
       "      <th>73399</th>\n",
       "      <th>14667</th>\n",
       "      <th>568218</th>\n",
       "      <th>349045</th>\n",
       "      <th>782791</th>\n",
       "      <th>268788</th>\n",
       "    </tr>\n",
       "  </thead>\n",
       "  <tbody>\n",
       "    <tr>\n",
       "      <th>0</th>\n",
       "      <td>store</td>\n",
       "      <td>211</td>\n",
       "      <td>994</td>\n",
       "      <td>925</td>\n",
       "      <td>173</td>\n",
       "      <td>354</td>\n",
       "      <td>557</td>\n",
       "      <td>847</td>\n",
       "      <td>746</td>\n",
       "    </tr>\n",
       "    <tr>\n",
       "      <th>1</th>\n",
       "      <td>day_of_week</td>\n",
       "      <td>6</td>\n",
       "      <td>6</td>\n",
       "      <td>3</td>\n",
       "      <td>6</td>\n",
       "      <td>5</td>\n",
       "      <td>2</td>\n",
       "      <td>2</td>\n",
       "      <td>4</td>\n",
       "    </tr>\n",
       "    <tr>\n",
       "      <th>2</th>\n",
       "      <td>date</td>\n",
       "      <td>2014-05-10 00:00:00</td>\n",
       "      <td>2013-02-09 00:00:00</td>\n",
       "      <td>2015-05-27 00:00:00</td>\n",
       "      <td>2015-07-18 00:00:00</td>\n",
       "      <td>2014-02-07 00:00:00</td>\n",
       "      <td>2014-09-02 00:00:00</td>\n",
       "      <td>2013-07-30 00:00:00</td>\n",
       "      <td>2014-11-27 00:00:00</td>\n",
       "    </tr>\n",
       "    <tr>\n",
       "      <th>3</th>\n",
       "      <td>sales</td>\n",
       "      <td>9210</td>\n",
       "      <td>2527</td>\n",
       "      <td>6007</td>\n",
       "      <td>6064</td>\n",
       "      <td>8757</td>\n",
       "      <td>5289</td>\n",
       "      <td>8888</td>\n",
       "      <td>7828</td>\n",
       "    </tr>\n",
       "    <tr>\n",
       "      <th>4</th>\n",
       "      <td>customers</td>\n",
       "      <td>1111</td>\n",
       "      <td>272</td>\n",
       "      <td>1109</td>\n",
       "      <td>778</td>\n",
       "      <td>703</td>\n",
       "      <td>730</td>\n",
       "      <td>1103</td>\n",
       "      <td>626</td>\n",
       "    </tr>\n",
       "    <tr>\n",
       "      <th>5</th>\n",
       "      <td>open</td>\n",
       "      <td>1</td>\n",
       "      <td>1</td>\n",
       "      <td>1</td>\n",
       "      <td>1</td>\n",
       "      <td>1</td>\n",
       "      <td>1</td>\n",
       "      <td>1</td>\n",
       "      <td>1</td>\n",
       "    </tr>\n",
       "    <tr>\n",
       "      <th>6</th>\n",
       "      <td>promo</td>\n",
       "      <td>0</td>\n",
       "      <td>0</td>\n",
       "      <td>0</td>\n",
       "      <td>0</td>\n",
       "      <td>1</td>\n",
       "      <td>1</td>\n",
       "      <td>1</td>\n",
       "      <td>1</td>\n",
       "    </tr>\n",
       "    <tr>\n",
       "      <th>7</th>\n",
       "      <td>state_holiday</td>\n",
       "      <td>0</td>\n",
       "      <td>0</td>\n",
       "      <td>0</td>\n",
       "      <td>0</td>\n",
       "      <td>0</td>\n",
       "      <td>0</td>\n",
       "      <td>0</td>\n",
       "      <td>0</td>\n",
       "    </tr>\n",
       "    <tr>\n",
       "      <th>8</th>\n",
       "      <td>school_holiday</td>\n",
       "      <td>0</td>\n",
       "      <td>0</td>\n",
       "      <td>1</td>\n",
       "      <td>0</td>\n",
       "      <td>0</td>\n",
       "      <td>0</td>\n",
       "      <td>1</td>\n",
       "      <td>0</td>\n",
       "    </tr>\n",
       "    <tr>\n",
       "      <th>9</th>\n",
       "      <td>store_type</td>\n",
       "      <td>a</td>\n",
       "      <td>a</td>\n",
       "      <td>c</td>\n",
       "      <td>a</td>\n",
       "      <td>d</td>\n",
       "      <td>a</td>\n",
       "      <td>c</td>\n",
       "      <td>d</td>\n",
       "    </tr>\n",
       "    <tr>\n",
       "      <th>10</th>\n",
       "      <td>assortment</td>\n",
       "      <td>c</td>\n",
       "      <td>a</td>\n",
       "      <td>a</td>\n",
       "      <td>a</td>\n",
       "      <td>c</td>\n",
       "      <td>a</td>\n",
       "      <td>c</td>\n",
       "      <td>c</td>\n",
       "    </tr>\n",
       "    <tr>\n",
       "      <th>11</th>\n",
       "      <td>competition_distance</td>\n",
       "      <td>350.0</td>\n",
       "      <td>2290.0</td>\n",
       "      <td>470.0</td>\n",
       "      <td>350.0</td>\n",
       "      <td>1500.0</td>\n",
       "      <td>250.0</td>\n",
       "      <td>190.0</td>\n",
       "      <td>4330.0</td>\n",
       "    </tr>\n",
       "    <tr>\n",
       "      <th>12</th>\n",
       "      <td>competition_open_since_month</td>\n",
       "      <td>11.0</td>\n",
       "      <td>7.0</td>\n",
       "      <td>3.0</td>\n",
       "      <td>12.0</td>\n",
       "      <td>10.0</td>\n",
       "      <td>9.0</td>\n",
       "      <td>7.0</td>\n",
       "      <td>2.0</td>\n",
       "    </tr>\n",
       "    <tr>\n",
       "      <th>13</th>\n",
       "      <td>competition_open_since_year</td>\n",
       "      <td>2006.0</td>\n",
       "      <td>2011.0</td>\n",
       "      <td>2007.0</td>\n",
       "      <td>2012.0</td>\n",
       "      <td>2005.0</td>\n",
       "      <td>2014.0</td>\n",
       "      <td>2013.0</td>\n",
       "      <td>2011.0</td>\n",
       "    </tr>\n",
       "    <tr>\n",
       "      <th>14</th>\n",
       "      <td>promo2</td>\n",
       "      <td>0</td>\n",
       "      <td>1</td>\n",
       "      <td>1</td>\n",
       "      <td>0</td>\n",
       "      <td>0</td>\n",
       "      <td>0</td>\n",
       "      <td>1</td>\n",
       "      <td>1</td>\n",
       "    </tr>\n",
       "    <tr>\n",
       "      <th>15</th>\n",
       "      <td>promo2_since_week</td>\n",
       "      <td>19.0</td>\n",
       "      <td>1.0</td>\n",
       "      <td>1.0</td>\n",
       "      <td>29.0</td>\n",
       "      <td>6.0</td>\n",
       "      <td>36.0</td>\n",
       "      <td>31.0</td>\n",
       "      <td>35.0</td>\n",
       "    </tr>\n",
       "    <tr>\n",
       "      <th>16</th>\n",
       "      <td>promo2_since_year</td>\n",
       "      <td>2014.0</td>\n",
       "      <td>2012.0</td>\n",
       "      <td>2012.0</td>\n",
       "      <td>2015.0</td>\n",
       "      <td>2014.0</td>\n",
       "      <td>2014.0</td>\n",
       "      <td>2013.0</td>\n",
       "      <td>2011.0</td>\n",
       "    </tr>\n",
       "    <tr>\n",
       "      <th>17</th>\n",
       "      <td>promo_interval</td>\n",
       "      <td>0</td>\n",
       "      <td>Jan,Apr,Jul,Oct</td>\n",
       "      <td>Jan,Apr,Jul,Oct</td>\n",
       "      <td>0</td>\n",
       "      <td>0</td>\n",
       "      <td>0</td>\n",
       "      <td>Feb,May,Aug,Nov</td>\n",
       "      <td>Mar,Jun,Sept,Dec</td>\n",
       "    </tr>\n",
       "    <tr>\n",
       "      <th>18</th>\n",
       "      <td>month_map</td>\n",
       "      <td>May</td>\n",
       "      <td>Fev</td>\n",
       "      <td>May</td>\n",
       "      <td>Jul</td>\n",
       "      <td>Fev</td>\n",
       "      <td>Sept</td>\n",
       "      <td>Jul</td>\n",
       "      <td>Nov</td>\n",
       "    </tr>\n",
       "    <tr>\n",
       "      <th>19</th>\n",
       "      <td>is_promo</td>\n",
       "      <td>0</td>\n",
       "      <td>0</td>\n",
       "      <td>0</td>\n",
       "      <td>0</td>\n",
       "      <td>0</td>\n",
       "      <td>0</td>\n",
       "      <td>0</td>\n",
       "      <td>0</td>\n",
       "    </tr>\n",
       "  </tbody>\n",
       "</table>\n",
       "</div>"
      ],
      "text/plain": [
       "                           index               465495               973603  \\\n",
       "0                          store                  211                  994   \n",
       "1                    day_of_week                    6                    6   \n",
       "2                           date  2014-05-10 00:00:00  2013-02-09 00:00:00   \n",
       "3                          sales                 9210                 2527   \n",
       "4                      customers                 1111                  272   \n",
       "5                           open                    1                    1   \n",
       "6                          promo                    0                    0   \n",
       "7                  state_holiday                    0                    0   \n",
       "8                 school_holiday                    0                    0   \n",
       "9                     store_type                    a                    a   \n",
       "10                    assortment                    c                    a   \n",
       "11          competition_distance                350.0               2290.0   \n",
       "12  competition_open_since_month                 11.0                  7.0   \n",
       "13   competition_open_since_year               2006.0               2011.0   \n",
       "14                        promo2                    0                    1   \n",
       "15             promo2_since_week                 19.0                  1.0   \n",
       "16             promo2_since_year               2014.0               2012.0   \n",
       "17                promo_interval                    0      Jan,Apr,Jul,Oct   \n",
       "18                     month_map                  May                  Fev   \n",
       "19                      is_promo                    0                    0   \n",
       "\n",
       "                  73399                14667               568218  \\\n",
       "0                   925                  173                  354   \n",
       "1                     3                    6                    5   \n",
       "2   2015-05-27 00:00:00  2015-07-18 00:00:00  2014-02-07 00:00:00   \n",
       "3                  6007                 6064                 8757   \n",
       "4                  1109                  778                  703   \n",
       "5                     1                    1                    1   \n",
       "6                     0                    0                    1   \n",
       "7                     0                    0                    0   \n",
       "8                     1                    0                    0   \n",
       "9                     c                    a                    d   \n",
       "10                    a                    a                    c   \n",
       "11                470.0                350.0               1500.0   \n",
       "12                  3.0                 12.0                 10.0   \n",
       "13               2007.0               2012.0               2005.0   \n",
       "14                    1                    0                    0   \n",
       "15                  1.0                 29.0                  6.0   \n",
       "16               2012.0               2015.0               2014.0   \n",
       "17      Jan,Apr,Jul,Oct                    0                    0   \n",
       "18                  May                  Jul                  Fev   \n",
       "19                    0                    0                    0   \n",
       "\n",
       "                 349045               782791               268788  \n",
       "0                   557                  847                  746  \n",
       "1                     2                    2                    4  \n",
       "2   2014-09-02 00:00:00  2013-07-30 00:00:00  2014-11-27 00:00:00  \n",
       "3                  5289                 8888                 7828  \n",
       "4                   730                 1103                  626  \n",
       "5                     1                    1                    1  \n",
       "6                     1                    1                    1  \n",
       "7                     0                    0                    0  \n",
       "8                     0                    1                    0  \n",
       "9                     a                    c                    d  \n",
       "10                    a                    c                    c  \n",
       "11                250.0                190.0               4330.0  \n",
       "12                  9.0                  7.0                  2.0  \n",
       "13               2014.0               2013.0               2011.0  \n",
       "14                    0                    1                    1  \n",
       "15                 36.0                 31.0                 35.0  \n",
       "16               2014.0               2013.0               2011.0  \n",
       "17                    0      Feb,May,Aug,Nov     Mar,Jun,Sept,Dec  \n",
       "18                 Sept                  Jul                  Nov  \n",
       "19                    0                    0                    0  "
      ]
     },
     "execution_count": 17,
     "metadata": {},
     "output_type": "execute_result"
    }
   ],
   "source": [
    "df1.sample(8).T.reset_index()"
   ]
  },
  {
   "cell_type": "markdown",
   "id": "a6dad27f",
   "metadata": {},
   "source": [
    "## 1.6 Changes Types"
   ]
  },
  {
   "cell_type": "code",
   "execution_count": 18,
   "id": "4cbf90d1",
   "metadata": {
    "ExecuteTime": {
     "end_time": "2022-05-13T16:04:48.772670Z",
     "start_time": "2022-05-13T16:04:48.711610Z"
    }
   },
   "outputs": [],
   "source": [
    "df1['competition_open_since_month'] = df1['competition_open_since_month'].astype(int)\n",
    "df1['competition_open_since_year'] = df1['competition_open_since_year'].astype(int)\n",
    "\n",
    "df1['promo2_since_week'] = df1['promo2_since_week'].astype(int)\n",
    "df1['promo2_since_year'] = df1['promo2_since_year'].astype(int)\n"
   ]
  },
  {
   "cell_type": "code",
   "execution_count": 19,
   "id": "ac7b7c5b",
   "metadata": {
    "ExecuteTime": {
     "end_time": "2022-05-13T16:04:50.420541Z",
     "start_time": "2022-05-13T16:04:50.406180Z"
    }
   },
   "outputs": [
    {
     "data": {
      "text/plain": [
       "store                                    int64\n",
       "day_of_week                              int64\n",
       "date                            datetime64[ns]\n",
       "sales                                    int64\n",
       "customers                                int64\n",
       "open                                     int64\n",
       "promo                                    int64\n",
       "state_holiday                           object\n",
       "school_holiday                           int64\n",
       "store_type                              object\n",
       "assortment                              object\n",
       "competition_distance                   float64\n",
       "competition_open_since_month             int64\n",
       "competition_open_since_year              int64\n",
       "promo2                                   int64\n",
       "promo2_since_week                        int64\n",
       "promo2_since_year                        int64\n",
       "promo_interval                          object\n",
       "month_map                               object\n",
       "is_promo                                 int64\n",
       "dtype: object"
      ]
     },
     "execution_count": 19,
     "metadata": {},
     "output_type": "execute_result"
    }
   ],
   "source": [
    "df1.dtypes"
   ]
  },
  {
   "cell_type": "markdown",
   "id": "2de29c40",
   "metadata": {},
   "source": [
    "## 1.7 Descriptive Statistical "
   ]
  },
  {
   "cell_type": "code",
   "execution_count": 20,
   "id": "a1b23740",
   "metadata": {
    "ExecuteTime": {
     "end_time": "2022-05-13T16:04:52.698222Z",
     "start_time": "2022-05-13T16:04:52.685591Z"
    }
   },
   "outputs": [],
   "source": [
    "\n",
    "num_attributes = df1.select_dtypes (include = ['int64', 'float64'])\n",
    "\n",
    "cat_attributes = df1.select_dtypes (exclude = ['int64', 'float64', 'datetime64[ns]'])"
   ]
  },
  {
   "cell_type": "markdown",
   "id": "77d8f58c",
   "metadata": {},
   "source": [
    "### Numerical Atributes Statistical"
   ]
  },
  {
   "cell_type": "code",
   "execution_count": 21,
   "id": "7c549e0b",
   "metadata": {
    "ExecuteTime": {
     "end_time": "2022-05-13T16:04:56.690732Z",
     "start_time": "2022-05-13T16:04:54.336255Z"
    }
   },
   "outputs": [],
   "source": [
    "# Central Tendency - means, median\n",
    "ct1 = pd.DataFrame(num_attributes.apply (np.mean)).T\n",
    "ct2 = pd.DataFrame(num_attributes.apply (np.median)).T\n",
    "\n",
    "# Dispersion - std, min, max, range, skev, kurtosis\n",
    "\n",
    "d1 = pd.DataFrame(num_attributes.apply (np.std)).T\n",
    "d2 = pd.DataFrame(num_attributes.apply (min)).T\n",
    "d3 = pd.DataFrame(num_attributes.apply (max)).T\n",
    "d4 = pd.DataFrame(num_attributes.apply (lambda x: x.max() - x.min() )).T\n",
    "d5 = pd.DataFrame(num_attributes.apply (lambda x: x.skew() )).T\n",
    "d6 = pd.DataFrame(num_attributes.apply (lambda x: x.kurtosis() )).T\n",
    "\n",
    "#concatenate\n",
    "#m = pd.concat ([d2,d3,d4,ct1,ct2,d1,d5,d6]).T.reset_index()\n",
    "#m.columns = ['attributes','min','max','range','mean','median', 'std', 'skew', 'kurtosis'] "
   ]
  },
  {
   "cell_type": "code",
   "execution_count": 22,
   "id": "42c71301",
   "metadata": {
    "ExecuteTime": {
     "end_time": "2022-05-13T16:04:57.502248Z",
     "start_time": "2022-05-13T16:04:56.858782Z"
    }
   },
   "outputs": [],
   "source": [
    "m = num_attributes.agg([\"mean\",\"median\",\"std\",\"min\",\"max\",\"skew\",\"kurtosis\"]).T.reset_index()"
   ]
  },
  {
   "cell_type": "code",
   "execution_count": 23,
   "id": "41cc5878",
   "metadata": {
    "ExecuteTime": {
     "end_time": "2022-05-13T16:04:57.698514Z",
     "start_time": "2022-05-13T16:04:57.679395Z"
    }
   },
   "outputs": [
    {
     "data": {
      "text/html": [
       "<div>\n",
       "<style scoped>\n",
       "    .dataframe tbody tr th:only-of-type {\n",
       "        vertical-align: middle;\n",
       "    }\n",
       "\n",
       "    .dataframe tbody tr th {\n",
       "        vertical-align: top;\n",
       "    }\n",
       "\n",
       "    .dataframe thead th {\n",
       "        text-align: right;\n",
       "    }\n",
       "</style>\n",
       "<table border=\"1\" class=\"dataframe\">\n",
       "  <thead>\n",
       "    <tr style=\"text-align: right;\">\n",
       "      <th></th>\n",
       "      <th>index</th>\n",
       "      <th>mean</th>\n",
       "      <th>median</th>\n",
       "      <th>std</th>\n",
       "      <th>min</th>\n",
       "      <th>max</th>\n",
       "      <th>skew</th>\n",
       "      <th>kurtosis</th>\n",
       "    </tr>\n",
       "  </thead>\n",
       "  <tbody>\n",
       "    <tr>\n",
       "      <th>10</th>\n",
       "      <td>promo2</td>\n",
       "      <td>0.500564</td>\n",
       "      <td>1.0</td>\n",
       "      <td>0.500000</td>\n",
       "      <td>0.0</td>\n",
       "      <td>1.0</td>\n",
       "      <td>-0.002255</td>\n",
       "      <td>-1.999999</td>\n",
       "    </tr>\n",
       "    <tr>\n",
       "      <th>6</th>\n",
       "      <td>school_holiday</td>\n",
       "      <td>0.178647</td>\n",
       "      <td>0.0</td>\n",
       "      <td>0.383056</td>\n",
       "      <td>0.0</td>\n",
       "      <td>1.0</td>\n",
       "      <td>1.677842</td>\n",
       "      <td>0.815154</td>\n",
       "    </tr>\n",
       "    <tr>\n",
       "      <th>2</th>\n",
       "      <td>sales</td>\n",
       "      <td>5773.818972</td>\n",
       "      <td>5744.0</td>\n",
       "      <td>3849.926175</td>\n",
       "      <td>0.0</td>\n",
       "      <td>41551.0</td>\n",
       "      <td>0.641460</td>\n",
       "      <td>1.778375</td>\n",
       "    </tr>\n",
       "    <tr>\n",
       "      <th>8</th>\n",
       "      <td>competition_open_since_month</td>\n",
       "      <td>6.786849</td>\n",
       "      <td>7.0</td>\n",
       "      <td>3.311087</td>\n",
       "      <td>1.0</td>\n",
       "      <td>12.0</td>\n",
       "      <td>-0.042076</td>\n",
       "      <td>-1.232607</td>\n",
       "    </tr>\n",
       "    <tr>\n",
       "      <th>3</th>\n",
       "      <td>customers</td>\n",
       "      <td>633.145946</td>\n",
       "      <td>609.0</td>\n",
       "      <td>464.411734</td>\n",
       "      <td>0.0</td>\n",
       "      <td>7388.0</td>\n",
       "      <td>1.598650</td>\n",
       "      <td>7.091773</td>\n",
       "    </tr>\n",
       "    <tr>\n",
       "      <th>4</th>\n",
       "      <td>open</td>\n",
       "      <td>0.830107</td>\n",
       "      <td>1.0</td>\n",
       "      <td>0.375539</td>\n",
       "      <td>0.0</td>\n",
       "      <td>1.0</td>\n",
       "      <td>-1.758045</td>\n",
       "      <td>1.090723</td>\n",
       "    </tr>\n",
       "  </tbody>\n",
       "</table>\n",
       "</div>"
      ],
      "text/plain": [
       "                           index         mean  median          std  min  \\\n",
       "10                        promo2     0.500564     1.0     0.500000  0.0   \n",
       "6                 school_holiday     0.178647     0.0     0.383056  0.0   \n",
       "2                          sales  5773.818972  5744.0  3849.926175  0.0   \n",
       "8   competition_open_since_month     6.786849     7.0     3.311087  1.0   \n",
       "3                      customers   633.145946   609.0   464.411734  0.0   \n",
       "4                           open     0.830107     1.0     0.375539  0.0   \n",
       "\n",
       "        max      skew  kurtosis  \n",
       "10      1.0 -0.002255 -1.999999  \n",
       "6       1.0  1.677842  0.815154  \n",
       "2   41551.0  0.641460  1.778375  \n",
       "8      12.0 -0.042076 -1.232607  \n",
       "3    7388.0  1.598650  7.091773  \n",
       "4       1.0 -1.758045  1.090723  "
      ]
     },
     "execution_count": 23,
     "metadata": {},
     "output_type": "execute_result"
    }
   ],
   "source": [
    "m.sample(6)"
   ]
  },
  {
   "cell_type": "code",
   "execution_count": 24,
   "id": "c119f0f1",
   "metadata": {
    "ExecuteTime": {
     "end_time": "2022-05-13T16:04:58.278645Z",
     "start_time": "2022-05-13T16:04:57.890976Z"
    }
   },
   "outputs": [
    {
     "name": "stderr",
     "output_type": "stream",
     "text": [
      "/home/andressasantos/.pyenv/versions/3.8.1/envs/DataScienceEmProducao/lib/python3.8/site-packages/seaborn/distributions.py:2619: FutureWarning: `distplot` is a deprecated function and will be removed in a future version. Please adapt your code to use either `displot` (a figure-level function with similar flexibility) or `histplot` (an axes-level function for histograms).\n",
      "  warnings.warn(msg, FutureWarning)\n"
     ]
    },
    {
     "data": {
      "text/plain": [
       "<AxesSubplot:xlabel='competition_distance'>"
      ]
     },
     "execution_count": 24,
     "metadata": {},
     "output_type": "execute_result"
    },
    {
     "data": {
      "image/png": "[encoded data removed]",
      "text/plain": [
       "<Figure size 432x288 with 1 Axes>"
      ]
     },
     "metadata": {
      "needs_background": "light"
     },
     "output_type": "display_data"
    }
   ],
   "source": [
    "sns.distplot( df1['competition_distance'], kde=False )"
   ]
  },
  {
   "cell_type": "markdown",
   "id": "544c07eb",
   "metadata": {
    "heading_collapsed": true
   },
   "source": [
    "### Categorical Attributes"
   ]
  },
  {
   "cell_type": "code",
   "execution_count": null,
   "id": "cc9c49e2",
   "metadata": {
    "ExecuteTime": {
     "end_time": "2022-05-13T15:51:52.961136Z",
     "start_time": "2022-05-13T15:51:52.961113Z"
    },
    "hidden": true
   },
   "outputs": [],
   "source": [
    "cat_attributes.apply (lambda x: x.unique().shape[0] )"
   ]
  },
  {
   "cell_type": "code",
   "execution_count": null,
   "id": "6c47920f",
   "metadata": {
    "ExecuteTime": {
     "end_time": "2022-05-13T15:51:52.963291Z",
     "start_time": "2022-05-13T15:51:52.963267Z"
    },
    "hidden": true
   },
   "outputs": [],
   "source": [
    "aux1 = df1 [(df1['state_holiday']!='0') & (df1['sales'] > 0)]\n",
    "\n",
    "plt.subplot(1, 3, 1)\n",
    "\n",
    "sns.boxplot(x='state_holiday', y='sales', data= aux1)\n",
    "\n",
    "plt.subplot(1, 3, 2)\n",
    "\n",
    "sns.boxplot(x='store_type', y='sales', data= aux1)\n",
    "\n",
    "plt.subplot(1, 3, 3)\n",
    "sns.boxplot(x='assortment', y='sales', data= aux1)"
   ]
  },
  {
   "cell_type": "markdown",
   "id": "4070ad03",
   "metadata": {},
   "source": [
    "# 2.0 Feature Engineering"
   ]
  },
  {
   "cell_type": "code",
   "execution_count": 25,
   "id": "b18f48ab",
   "metadata": {
    "ExecuteTime": {
     "end_time": "2022-05-13T16:05:01.640380Z",
     "start_time": "2022-05-13T16:05:01.238329Z"
    }
   },
   "outputs": [],
   "source": [
    "df2 = df1.copy()"
   ]
  },
  {
   "cell_type": "markdown",
   "id": "bd80e426",
   "metadata": {},
   "source": [
    "## 2.1 Mapa Mental de Hipoteses"
   ]
  },
  {
   "attachments": {
    "mindmaphypothesis.png": {
     "image/png": "[encoded data removed]"
    }
   },
   "cell_type": "markdown",
   "id": "81a6e823",
   "metadata": {},
   "source": [
    "![mindmaphypothesis.png](attachment:mindmaphypothesis.png)"
   ]
  },
  {
   "cell_type": "markdown",
   "id": "532d017f",
   "metadata": {
    "heading_collapsed": true
   },
   "source": [
    "## 2.2 Criacao das Hipoteses"
   ]
  },
  {
   "cell_type": "markdown",
   "id": "c8edd3ad",
   "metadata": {
    "heading_collapsed": true,
    "hidden": true
   },
   "source": [
    "###  2.2.1 Hipoteses Loja"
   ]
  },
  {
   "cell_type": "markdown",
   "id": "998a519b",
   "metadata": {
    "hidden": true
   },
   "source": [
    "1. Lojas com número maior de funcionários deveriam vender mais.\n",
    "2. Lojas com maior capacidade de estoque deveriam vender mais.\n",
    "3. Lojas com maior porte deveriam vender mais.\n",
    "4. Lojas com maior sortimentos deveriam vender mais.\n",
    "5. Lojas com competidores mais próximos deveriam vender menos.\n",
    "6. Lojas com competidores à mais tempo deveriam vendem mais."
   ]
  },
  {
   "cell_type": "markdown",
   "id": "2a6a5fd4",
   "metadata": {
    "heading_collapsed": true,
    "hidden": true
   },
   "source": [
    "### 2.2.2 Hipoteses do Produto"
   ]
  },
  {
   "cell_type": "markdown",
   "id": "d28bf15f",
   "metadata": {
    "hidden": true
   },
   "source": [
    "1. Lojas que investem mais em Marketing deveriam vender mais.\n",
    "2. Lojas com maior exposição de produto deveriam vender mais.\n",
    "3. Lojas com produtos com preço menor deveriam vender mais.\n",
    "5. Lojas com promoções mais agressivas ( descontos maiores ), deveriam vender mais.\n",
    "6. Lojas com promoções ativas por mais tempo deveriam vender mais.\n",
    "7. Lojas com mais dias de promoção deveriam vender mais.\n",
    "8. Lojas com mais promoções consecutivas deveriam vender mais."
   ]
  },
  {
   "cell_type": "markdown",
   "id": "8c9e60aa",
   "metadata": {
    "heading_collapsed": true,
    "hidden": true
   },
   "source": [
    "### 2.2.3 Hipoteses Tempo"
   ]
  },
  {
   "cell_type": "markdown",
   "id": "8a891112",
   "metadata": {
    "hidden": true
   },
   "source": [
    "1. Lojas abertas durante o feriado de Natal deveriam vender mais.\n",
    "2. Lojas deveriam vender mais ao longo dos anos.\n",
    "3. Lojas deveriam vender mais no segundo semestre do ano.\n",
    "4. Lojas deveriam vender mais depois do dia 10 de cada mês.\n",
    "5. Lojas deveriam vender menos aos finais de semana.\n",
    "6. Lojas deveriam vender menos durante os feriados escolares."
   ]
  },
  {
   "cell_type": "markdown",
   "id": "242909c0",
   "metadata": {
    "ExecuteTime": {
     "end_time": "2022-05-13T12:13:35.044484Z",
     "start_time": "2022-05-13T12:13:35.041532Z"
    },
    "heading_collapsed": true
   },
   "source": [
    "## 2.4 Hipoteses Final"
   ]
  },
  {
   "cell_type": "markdown",
   "id": "31d0bdea",
   "metadata": {
    "hidden": true
   },
   "source": [
    "1. Lojas com maior sortimentos deveriam vender mais.\n",
    "2. Lojas com competidores mais próximos deveriam vender menos.\n",
    "3. Lojas com competidores à mais tempo deveriam vendem mais.\n",
    "4. Lojas com promoções ativas por mais tempo deveriam vender mais.\n",
    "5. Lojas com mais dias de promoção deveriam vender mais.\n",
    "7. Lojas com mais promoções consecutivas deveriam vender mais.\n",
    "8. Lojas abertas durante o feriado de Natal deveriam vender mais.\n",
    "9. Lojas deveriam vender mais ao longo dos anos.\n",
    "10. Lojas deveriam vender mais no segundo semestre do ano.\n",
    "11. Lojas deveriam vender mais depois do dia 10 de cada mês.\n",
    "12. Lojas deveriam vender menos aos finais de semana.\n",
    "13. Lojas deveriam vender menos durante os feriados escolares."
   ]
  },
  {
   "cell_type": "markdown",
   "id": "b6ba0995",
   "metadata": {},
   "source": [
    "## 2.3 Feature Engineering"
   ]
  },
  {
   "cell_type": "code",
   "execution_count": 26,
   "id": "8b1d8632",
   "metadata": {
    "ExecuteTime": {
     "end_time": "2022-05-13T16:05:57.236480Z",
     "start_time": "2022-05-13T16:05:14.308865Z"
    }
   },
   "outputs": [
    {
     "name": "stderr",
     "output_type": "stream",
     "text": [
      "/tmp/ipykernel_21025/2944290484.py:11: FutureWarning: Series.dt.weekofyear and Series.dt.week have been deprecated. Please use Series.dt.isocalendar().week instead.\n",
      "  df2['week_of_year'] = df2['date'].dt.weekofyear\n"
     ]
    }
   ],
   "source": [
    "#year\n",
    "df2['year'] = df2['date'].dt.year\n",
    "\n",
    "#month\n",
    "df2['month'] = df2['date'].dt.month\n",
    "\n",
    "#day\n",
    "df2['day'] = df2['date'].dt.day\n",
    "\n",
    "#week of year\n",
    "df2['week_of_year'] = df2['date'].dt.weekofyear\n",
    "\n",
    "#year_week\n",
    "df2['year_week'] = df2['date'].dt.strftime('%y-%w')\n",
    "\n",
    "\n",
    "#competition_since\n",
    "df2['competition_since'] = df2.apply (lambda x: datetime.datetime (year=x['competition_open_since_year'], month=x['competition_open_since_month'],day=1), axis = 1)\n",
    "df2['competition_time_month'] = (((df2['date'] - df2['competition_since']) / 30).apply(lambda x: x.days).astype(int))\n",
    "\n",
    "#promo_since\n",
    "df2 ['promo_since'] = df2['promo2_since_year'].astype( str ) + '-' + df2['promo2_since_week'].astype(str)\n",
    "df2['promo_since'] = df2 ['promo_since'].apply (lambda x: datetime.datetime.strptime(x + '-1', '%Y-%W-%w') - datetime.timedelta (days = 7))\n",
    "\n",
    "df2['promo_time_week'] = (((df2['date'] - df2['promo_since'])/7). apply (lambda x: x.days).astype(int))\n",
    "\n",
    "#assortment\n",
    "df2['assortment'] = df2['assortment'].apply (lambda x: 'basic'if x== 'a' else 'extra' if x== 'b' else 'extended')\n",
    "\n",
    "\n",
    "#state_holiday\n",
    "df2['state_holiday'] = df2['state_holiday'].apply (lambda x: 'public_holiday'if x== 'a' else 'easter_holiday' if x== 'b' else 'christmas'if x== 'c' else 'regular_day')\n",
    "\n"
   ]
  },
  {
   "cell_type": "code",
   "execution_count": 28,
   "id": "2d46359e",
   "metadata": {
    "ExecuteTime": {
     "end_time": "2022-05-13T16:06:27.893347Z",
     "start_time": "2022-05-13T16:06:27.876956Z"
    }
   },
   "outputs": [
    {
     "data": {
      "text/html": [
       "<div>\n",
       "<style scoped>\n",
       "    .dataframe tbody tr th:only-of-type {\n",
       "        vertical-align: middle;\n",
       "    }\n",
       "\n",
       "    .dataframe tbody tr th {\n",
       "        vertical-align: top;\n",
       "    }\n",
       "\n",
       "    .dataframe thead th {\n",
       "        text-align: right;\n",
       "    }\n",
       "</style>\n",
       "<table border=\"1\" class=\"dataframe\">\n",
       "  <thead>\n",
       "    <tr style=\"text-align: right;\">\n",
       "      <th></th>\n",
       "      <th>index</th>\n",
       "      <th>0</th>\n",
       "      <th>1</th>\n",
       "      <th>2</th>\n",
       "      <th>3</th>\n",
       "      <th>4</th>\n",
       "    </tr>\n",
       "  </thead>\n",
       "  <tbody>\n",
       "    <tr>\n",
       "      <th>0</th>\n",
       "      <td>store</td>\n",
       "      <td>1</td>\n",
       "      <td>2</td>\n",
       "      <td>3</td>\n",
       "      <td>4</td>\n",
       "      <td>5</td>\n",
       "    </tr>\n",
       "    <tr>\n",
       "      <th>1</th>\n",
       "      <td>day_of_week</td>\n",
       "      <td>5</td>\n",
       "      <td>5</td>\n",
       "      <td>5</td>\n",
       "      <td>5</td>\n",
       "      <td>5</td>\n",
       "    </tr>\n",
       "    <tr>\n",
       "      <th>2</th>\n",
       "      <td>date</td>\n",
       "      <td>2015-07-31 00:00:00</td>\n",
       "      <td>2015-07-31 00:00:00</td>\n",
       "      <td>2015-07-31 00:00:00</td>\n",
       "      <td>2015-07-31 00:00:00</td>\n",
       "      <td>2015-07-31 00:00:00</td>\n",
       "    </tr>\n",
       "    <tr>\n",
       "      <th>3</th>\n",
       "      <td>sales</td>\n",
       "      <td>5263</td>\n",
       "      <td>6064</td>\n",
       "      <td>8314</td>\n",
       "      <td>13995</td>\n",
       "      <td>4822</td>\n",
       "    </tr>\n",
       "    <tr>\n",
       "      <th>4</th>\n",
       "      <td>customers</td>\n",
       "      <td>555</td>\n",
       "      <td>625</td>\n",
       "      <td>821</td>\n",
       "      <td>1498</td>\n",
       "      <td>559</td>\n",
       "    </tr>\n",
       "    <tr>\n",
       "      <th>5</th>\n",
       "      <td>open</td>\n",
       "      <td>1</td>\n",
       "      <td>1</td>\n",
       "      <td>1</td>\n",
       "      <td>1</td>\n",
       "      <td>1</td>\n",
       "    </tr>\n",
       "    <tr>\n",
       "      <th>6</th>\n",
       "      <td>promo</td>\n",
       "      <td>1</td>\n",
       "      <td>1</td>\n",
       "      <td>1</td>\n",
       "      <td>1</td>\n",
       "      <td>1</td>\n",
       "    </tr>\n",
       "    <tr>\n",
       "      <th>7</th>\n",
       "      <td>state_holiday</td>\n",
       "      <td>regular_day</td>\n",
       "      <td>regular_day</td>\n",
       "      <td>regular_day</td>\n",
       "      <td>regular_day</td>\n",
       "      <td>regular_day</td>\n",
       "    </tr>\n",
       "    <tr>\n",
       "      <th>8</th>\n",
       "      <td>school_holiday</td>\n",
       "      <td>1</td>\n",
       "      <td>1</td>\n",
       "      <td>1</td>\n",
       "      <td>1</td>\n",
       "      <td>1</td>\n",
       "    </tr>\n",
       "    <tr>\n",
       "      <th>9</th>\n",
       "      <td>store_type</td>\n",
       "      <td>c</td>\n",
       "      <td>a</td>\n",
       "      <td>a</td>\n",
       "      <td>c</td>\n",
       "      <td>a</td>\n",
       "    </tr>\n",
       "    <tr>\n",
       "      <th>10</th>\n",
       "      <td>assortment</td>\n",
       "      <td>basic</td>\n",
       "      <td>basic</td>\n",
       "      <td>basic</td>\n",
       "      <td>extended</td>\n",
       "      <td>basic</td>\n",
       "    </tr>\n",
       "    <tr>\n",
       "      <th>11</th>\n",
       "      <td>competition_distance</td>\n",
       "      <td>1270.0</td>\n",
       "      <td>570.0</td>\n",
       "      <td>14130.0</td>\n",
       "      <td>620.0</td>\n",
       "      <td>29910.0</td>\n",
       "    </tr>\n",
       "    <tr>\n",
       "      <th>12</th>\n",
       "      <td>competition_open_since_month</td>\n",
       "      <td>9</td>\n",
       "      <td>11</td>\n",
       "      <td>12</td>\n",
       "      <td>9</td>\n",
       "      <td>4</td>\n",
       "    </tr>\n",
       "    <tr>\n",
       "      <th>13</th>\n",
       "      <td>competition_open_since_year</td>\n",
       "      <td>2008</td>\n",
       "      <td>2007</td>\n",
       "      <td>2006</td>\n",
       "      <td>2009</td>\n",
       "      <td>2015</td>\n",
       "    </tr>\n",
       "    <tr>\n",
       "      <th>14</th>\n",
       "      <td>promo2</td>\n",
       "      <td>0</td>\n",
       "      <td>1</td>\n",
       "      <td>1</td>\n",
       "      <td>0</td>\n",
       "      <td>0</td>\n",
       "    </tr>\n",
       "    <tr>\n",
       "      <th>15</th>\n",
       "      <td>promo2_since_week</td>\n",
       "      <td>31</td>\n",
       "      <td>13</td>\n",
       "      <td>14</td>\n",
       "      <td>31</td>\n",
       "      <td>31</td>\n",
       "    </tr>\n",
       "    <tr>\n",
       "      <th>16</th>\n",
       "      <td>promo2_since_year</td>\n",
       "      <td>2015</td>\n",
       "      <td>2010</td>\n",
       "      <td>2011</td>\n",
       "      <td>2015</td>\n",
       "      <td>2015</td>\n",
       "    </tr>\n",
       "    <tr>\n",
       "      <th>17</th>\n",
       "      <td>promo_interval</td>\n",
       "      <td>0</td>\n",
       "      <td>Jan,Apr,Jul,Oct</td>\n",
       "      <td>Jan,Apr,Jul,Oct</td>\n",
       "      <td>0</td>\n",
       "      <td>0</td>\n",
       "    </tr>\n",
       "    <tr>\n",
       "      <th>18</th>\n",
       "      <td>month_map</td>\n",
       "      <td>Jul</td>\n",
       "      <td>Jul</td>\n",
       "      <td>Jul</td>\n",
       "      <td>Jul</td>\n",
       "      <td>Jul</td>\n",
       "    </tr>\n",
       "    <tr>\n",
       "      <th>19</th>\n",
       "      <td>is_promo</td>\n",
       "      <td>0</td>\n",
       "      <td>1</td>\n",
       "      <td>1</td>\n",
       "      <td>0</td>\n",
       "      <td>0</td>\n",
       "    </tr>\n",
       "    <tr>\n",
       "      <th>20</th>\n",
       "      <td>year</td>\n",
       "      <td>2015</td>\n",
       "      <td>2015</td>\n",
       "      <td>2015</td>\n",
       "      <td>2015</td>\n",
       "      <td>2015</td>\n",
       "    </tr>\n",
       "    <tr>\n",
       "      <th>21</th>\n",
       "      <td>month</td>\n",
       "      <td>7</td>\n",
       "      <td>7</td>\n",
       "      <td>7</td>\n",
       "      <td>7</td>\n",
       "      <td>7</td>\n",
       "    </tr>\n",
       "    <tr>\n",
       "      <th>22</th>\n",
       "      <td>day</td>\n",
       "      <td>31</td>\n",
       "      <td>31</td>\n",
       "      <td>31</td>\n",
       "      <td>31</td>\n",
       "      <td>31</td>\n",
       "    </tr>\n",
       "    <tr>\n",
       "      <th>23</th>\n",
       "      <td>week_of_year</td>\n",
       "      <td>31</td>\n",
       "      <td>31</td>\n",
       "      <td>31</td>\n",
       "      <td>31</td>\n",
       "      <td>31</td>\n",
       "    </tr>\n",
       "    <tr>\n",
       "      <th>24</th>\n",
       "      <td>year_week</td>\n",
       "      <td>15-5</td>\n",
       "      <td>15-5</td>\n",
       "      <td>15-5</td>\n",
       "      <td>15-5</td>\n",
       "      <td>15-5</td>\n",
       "    </tr>\n",
       "    <tr>\n",
       "      <th>25</th>\n",
       "      <td>competition_since</td>\n",
       "      <td>2008-09-01 00:00:00</td>\n",
       "      <td>2007-11-01 00:00:00</td>\n",
       "      <td>2006-12-01 00:00:00</td>\n",
       "      <td>2009-09-01 00:00:00</td>\n",
       "      <td>2015-04-01 00:00:00</td>\n",
       "    </tr>\n",
       "    <tr>\n",
       "      <th>26</th>\n",
       "      <td>competition_time_month</td>\n",
       "      <td>84</td>\n",
       "      <td>94</td>\n",
       "      <td>105</td>\n",
       "      <td>71</td>\n",
       "      <td>4</td>\n",
       "    </tr>\n",
       "    <tr>\n",
       "      <th>27</th>\n",
       "      <td>promo_since</td>\n",
       "      <td>2015-07-27 00:00:00</td>\n",
       "      <td>2010-03-22 00:00:00</td>\n",
       "      <td>2011-03-28 00:00:00</td>\n",
       "      <td>2015-07-27 00:00:00</td>\n",
       "      <td>2015-07-27 00:00:00</td>\n",
       "    </tr>\n",
       "    <tr>\n",
       "      <th>28</th>\n",
       "      <td>promo_time_week</td>\n",
       "      <td>0</td>\n",
       "      <td>279</td>\n",
       "      <td>226</td>\n",
       "      <td>0</td>\n",
       "      <td>0</td>\n",
       "    </tr>\n",
       "  </tbody>\n",
       "</table>\n",
       "</div>"
      ],
      "text/plain": [
       "                           index                    0                    1  \\\n",
       "0                          store                    1                    2   \n",
       "1                    day_of_week                    5                    5   \n",
       "2                           date  2015-07-31 00:00:00  2015-07-31 00:00:00   \n",
       "3                          sales                 5263                 6064   \n",
       "4                      customers                  555                  625   \n",
       "5                           open                    1                    1   \n",
       "6                          promo                    1                    1   \n",
       "7                  state_holiday          regular_day          regular_day   \n",
       "8                 school_holiday                    1                    1   \n",
       "9                     store_type                    c                    a   \n",
       "10                    assortment                basic                basic   \n",
       "11          competition_distance               1270.0                570.0   \n",
       "12  competition_open_since_month                    9                   11   \n",
       "13   competition_open_since_year                 2008                 2007   \n",
       "14                        promo2                    0                    1   \n",
       "15             promo2_since_week                   31                   13   \n",
       "16             promo2_since_year                 2015                 2010   \n",
       "17                promo_interval                    0      Jan,Apr,Jul,Oct   \n",
       "18                     month_map                  Jul                  Jul   \n",
       "19                      is_promo                    0                    1   \n",
       "20                          year                 2015                 2015   \n",
       "21                         month                    7                    7   \n",
       "22                           day                   31                   31   \n",
       "23                  week_of_year                   31                   31   \n",
       "24                     year_week                 15-5                 15-5   \n",
       "25             competition_since  2008-09-01 00:00:00  2007-11-01 00:00:00   \n",
       "26        competition_time_month                   84                   94   \n",
       "27                   promo_since  2015-07-27 00:00:00  2010-03-22 00:00:00   \n",
       "28               promo_time_week                    0                  279   \n",
       "\n",
       "                      2                    3                    4  \n",
       "0                     3                    4                    5  \n",
       "1                     5                    5                    5  \n",
       "2   2015-07-31 00:00:00  2015-07-31 00:00:00  2015-07-31 00:00:00  \n",
       "3                  8314                13995                 4822  \n",
       "4                   821                 1498                  559  \n",
       "5                     1                    1                    1  \n",
       "6                     1                    1                    1  \n",
       "7           regular_day          regular_day          regular_day  \n",
       "8                     1                    1                    1  \n",
       "9                     a                    c                    a  \n",
       "10                basic             extended                basic  \n",
       "11              14130.0                620.0              29910.0  \n",
       "12                   12                    9                    4  \n",
       "13                 2006                 2009                 2015  \n",
       "14                    1                    0                    0  \n",
       "15                   14                   31                   31  \n",
       "16                 2011                 2015                 2015  \n",
       "17      Jan,Apr,Jul,Oct                    0                    0  \n",
       "18                  Jul                  Jul                  Jul  \n",
       "19                    1                    0                    0  \n",
       "20                 2015                 2015                 2015  \n",
       "21                    7                    7                    7  \n",
       "22                   31                   31                   31  \n",
       "23                   31                   31                   31  \n",
       "24                 15-5                 15-5                 15-5  \n",
       "25  2006-12-01 00:00:00  2009-09-01 00:00:00  2015-04-01 00:00:00  \n",
       "26                  105                   71                    4  \n",
       "27  2011-03-28 00:00:00  2015-07-27 00:00:00  2015-07-27 00:00:00  \n",
       "28                  226                    0                    0  "
      ]
     },
     "execution_count": 28,
     "metadata": {},
     "output_type": "execute_result"
    }
   ],
   "source": [
    "df2.head().T.reset_index()"
   ]
  },
  {
   "cell_type": "markdown",
   "id": "c82dc7e3",
   "metadata": {},
   "source": [
    "# 3.0 Filtragem de Variaveis"
   ]
  },
  {
   "cell_type": "code",
   "execution_count": 31,
   "id": "a84b7f47",
   "metadata": {
    "ExecuteTime": {
     "end_time": "2022-05-13T16:08:04.832757Z",
     "start_time": "2022-05-13T16:08:03.539644Z"
    }
   },
   "outputs": [],
   "source": [
    "df3 = df2.copy()"
   ]
  },
  {
   "cell_type": "code",
   "execution_count": 32,
   "id": "2ef362b5",
   "metadata": {
    "ExecuteTime": {
     "end_time": "2022-05-13T16:08:06.477453Z",
     "start_time": "2022-05-13T16:08:06.460058Z"
    }
   },
   "outputs": [
    {
     "data": {
      "text/html": [
       "<div>\n",
       "<style scoped>\n",
       "    .dataframe tbody tr th:only-of-type {\n",
       "        vertical-align: middle;\n",
       "    }\n",
       "\n",
       "    .dataframe tbody tr th {\n",
       "        vertical-align: top;\n",
       "    }\n",
       "\n",
       "    .dataframe thead th {\n",
       "        text-align: right;\n",
       "    }\n",
       "</style>\n",
       "<table border=\"1\" class=\"dataframe\">\n",
       "  <thead>\n",
       "    <tr style=\"text-align: right;\">\n",
       "      <th></th>\n",
       "      <th>store</th>\n",
       "      <th>day_of_week</th>\n",
       "      <th>date</th>\n",
       "      <th>sales</th>\n",
       "      <th>customers</th>\n",
       "      <th>open</th>\n",
       "      <th>promo</th>\n",
       "      <th>state_holiday</th>\n",
       "      <th>school_holiday</th>\n",
       "      <th>store_type</th>\n",
       "      <th>...</th>\n",
       "      <th>is_promo</th>\n",
       "      <th>year</th>\n",
       "      <th>month</th>\n",
       "      <th>day</th>\n",
       "      <th>week_of_year</th>\n",
       "      <th>year_week</th>\n",
       "      <th>competition_since</th>\n",
       "      <th>competition_time_month</th>\n",
       "      <th>promo_since</th>\n",
       "      <th>promo_time_week</th>\n",
       "    </tr>\n",
       "  </thead>\n",
       "  <tbody>\n",
       "    <tr>\n",
       "      <th>0</th>\n",
       "      <td>1</td>\n",
       "      <td>5</td>\n",
       "      <td>2015-07-31</td>\n",
       "      <td>5263</td>\n",
       "      <td>555</td>\n",
       "      <td>1</td>\n",
       "      <td>1</td>\n",
       "      <td>regular_day</td>\n",
       "      <td>1</td>\n",
       "      <td>c</td>\n",
       "      <td>...</td>\n",
       "      <td>0</td>\n",
       "      <td>2015</td>\n",
       "      <td>7</td>\n",
       "      <td>31</td>\n",
       "      <td>31</td>\n",
       "      <td>15-5</td>\n",
       "      <td>2008-09-01</td>\n",
       "      <td>84</td>\n",
       "      <td>2015-07-27</td>\n",
       "      <td>0</td>\n",
       "    </tr>\n",
       "    <tr>\n",
       "      <th>1</th>\n",
       "      <td>2</td>\n",
       "      <td>5</td>\n",
       "      <td>2015-07-31</td>\n",
       "      <td>6064</td>\n",
       "      <td>625</td>\n",
       "      <td>1</td>\n",
       "      <td>1</td>\n",
       "      <td>regular_day</td>\n",
       "      <td>1</td>\n",
       "      <td>a</td>\n",
       "      <td>...</td>\n",
       "      <td>1</td>\n",
       "      <td>2015</td>\n",
       "      <td>7</td>\n",
       "      <td>31</td>\n",
       "      <td>31</td>\n",
       "      <td>15-5</td>\n",
       "      <td>2007-11-01</td>\n",
       "      <td>94</td>\n",
       "      <td>2010-03-22</td>\n",
       "      <td>279</td>\n",
       "    </tr>\n",
       "    <tr>\n",
       "      <th>2</th>\n",
       "      <td>3</td>\n",
       "      <td>5</td>\n",
       "      <td>2015-07-31</td>\n",
       "      <td>8314</td>\n",
       "      <td>821</td>\n",
       "      <td>1</td>\n",
       "      <td>1</td>\n",
       "      <td>regular_day</td>\n",
       "      <td>1</td>\n",
       "      <td>a</td>\n",
       "      <td>...</td>\n",
       "      <td>1</td>\n",
       "      <td>2015</td>\n",
       "      <td>7</td>\n",
       "      <td>31</td>\n",
       "      <td>31</td>\n",
       "      <td>15-5</td>\n",
       "      <td>2006-12-01</td>\n",
       "      <td>105</td>\n",
       "      <td>2011-03-28</td>\n",
       "      <td>226</td>\n",
       "    </tr>\n",
       "    <tr>\n",
       "      <th>3</th>\n",
       "      <td>4</td>\n",
       "      <td>5</td>\n",
       "      <td>2015-07-31</td>\n",
       "      <td>13995</td>\n",
       "      <td>1498</td>\n",
       "      <td>1</td>\n",
       "      <td>1</td>\n",
       "      <td>regular_day</td>\n",
       "      <td>1</td>\n",
       "      <td>c</td>\n",
       "      <td>...</td>\n",
       "      <td>0</td>\n",
       "      <td>2015</td>\n",
       "      <td>7</td>\n",
       "      <td>31</td>\n",
       "      <td>31</td>\n",
       "      <td>15-5</td>\n",
       "      <td>2009-09-01</td>\n",
       "      <td>71</td>\n",
       "      <td>2015-07-27</td>\n",
       "      <td>0</td>\n",
       "    </tr>\n",
       "    <tr>\n",
       "      <th>4</th>\n",
       "      <td>5</td>\n",
       "      <td>5</td>\n",
       "      <td>2015-07-31</td>\n",
       "      <td>4822</td>\n",
       "      <td>559</td>\n",
       "      <td>1</td>\n",
       "      <td>1</td>\n",
       "      <td>regular_day</td>\n",
       "      <td>1</td>\n",
       "      <td>a</td>\n",
       "      <td>...</td>\n",
       "      <td>0</td>\n",
       "      <td>2015</td>\n",
       "      <td>7</td>\n",
       "      <td>31</td>\n",
       "      <td>31</td>\n",
       "      <td>15-5</td>\n",
       "      <td>2015-04-01</td>\n",
       "      <td>4</td>\n",
       "      <td>2015-07-27</td>\n",
       "      <td>0</td>\n",
       "    </tr>\n",
       "  </tbody>\n",
       "</table>\n",
       "<p>5 rows × 29 columns</p>\n",
       "</div>"
      ],
      "text/plain": [
       "   store  day_of_week       date  sales  customers  open  promo state_holiday  \\\n",
       "0      1            5 2015-07-31   5263        555     1      1   regular_day   \n",
       "1      2            5 2015-07-31   6064        625     1      1   regular_day   \n",
       "2      3            5 2015-07-31   8314        821     1      1   regular_day   \n",
       "3      4            5 2015-07-31  13995       1498     1      1   regular_day   \n",
       "4      5            5 2015-07-31   4822        559     1      1   regular_day   \n",
       "\n",
       "   school_holiday store_type  ... is_promo  year  month  day  week_of_year  \\\n",
       "0               1          c  ...        0  2015      7   31            31   \n",
       "1               1          a  ...        1  2015      7   31            31   \n",
       "2               1          a  ...        1  2015      7   31            31   \n",
       "3               1          c  ...        0  2015      7   31            31   \n",
       "4               1          a  ...        0  2015      7   31            31   \n",
       "\n",
       "   year_week  competition_since competition_time_month promo_since  \\\n",
       "0       15-5         2008-09-01                     84  2015-07-27   \n",
       "1       15-5         2007-11-01                     94  2010-03-22   \n",
       "2       15-5         2006-12-01                    105  2011-03-28   \n",
       "3       15-5         2009-09-01                     71  2015-07-27   \n",
       "4       15-5         2015-04-01                      4  2015-07-27   \n",
       "\n",
       "   promo_time_week  \n",
       "0                0  \n",
       "1              279  \n",
       "2              226  \n",
       "3                0  \n",
       "4                0  \n",
       "\n",
       "[5 rows x 29 columns]"
      ]
     },
     "execution_count": 32,
     "metadata": {},
     "output_type": "execute_result"
    }
   ],
   "source": [
    "df3.head()"
   ]
  },
  {
   "cell_type": "markdown",
   "id": "b6b0e0d7",
   "metadata": {},
   "source": [
    "## 3.1 Filtragem das linhas"
   ]
  },
  {
   "cell_type": "code",
   "execution_count": null,
   "id": "66905bae",
   "metadata": {},
   "outputs": [],
   "source": [
    "df3 = df3 [(df3['open'] !=0 ) & (df3 ['sales'] >0)]"
   ]
  },
  {
   "cell_type": "markdown",
   "id": "8699c547",
   "metadata": {},
   "source": [
    "## 3.2 Filtragem das colunas"
   ]
  },
  {
   "cell_type": "code",
   "execution_count": 34,
   "id": "7c11f1b1",
   "metadata": {
    "ExecuteTime": {
     "end_time": "2022-05-13T16:12:23.331496Z",
     "start_time": "2022-05-13T16:12:23.200651Z"
    }
   },
   "outputs": [],
   "source": [
    "cols_drop = ['customers', 'open', 'promo_interval', 'month_map']\n",
    "df3 = df3.drop (cols_drop, axis=1)"
   ]
  },
  {
   "cell_type": "code",
   "execution_count": 35,
   "id": "8e07465f",
   "metadata": {
    "ExecuteTime": {
     "end_time": "2022-05-13T16:12:34.434043Z",
     "start_time": "2022-05-13T16:12:34.422117Z"
    }
   },
   "outputs": [
    {
     "data": {
      "text/plain": [
       "Index(['store', 'day_of_week', 'date', 'sales', 'promo', 'state_holiday',\n",
       "       'school_holiday', 'store_type', 'assortment', 'competition_distance',\n",
       "       'competition_open_since_month', 'competition_open_since_year', 'promo2',\n",
       "       'promo2_since_week', 'promo2_since_year', 'is_promo', 'year', 'month',\n",
       "       'day', 'week_of_year', 'year_week', 'competition_since',\n",
       "       'competition_time_month', 'promo_since', 'promo_time_week'],\n",
       "      dtype='object')"
      ]
     },
     "execution_count": 35,
     "metadata": {},
     "output_type": "execute_result"
    }
   ],
   "source": [
    "df3.columns"
   ]
  },
  {
   "cell_type": "code",
   "execution_count": null,
   "id": "03251bb1",
   "metadata": {},
   "outputs": [],
   "source": []
  }
 ],
 "metadata": {
  "kernelspec": {
   "display_name": "Python 3 (ipykernel)",
   "language": "python",
   "name": "python3"
  },
  "language_info": {
   "codemirror_mode": {
    "name": "ipython",
    "version": 3
   },
   "file_extension": ".py",
   "mimetype": "text/x-python",
   "name": "python",
   "nbconvert_exporter": "python",
   "pygments_lexer": "ipython3",
   "version": "3.8.1"
  },
  "varInspector": {
   "cols": {
    "lenName": 16,
    "lenType": 16,
    "lenVar": 40
   },
   "kernels_config": {
    "python": {
     "delete_cmd_postfix": "",
     "delete_cmd_prefix": "del ",
     "library": "var_list.py",
     "varRefreshCmd": "print(var_dic_list())"
    },
    "r": {
     "delete_cmd_postfix": ") ",
     "delete_cmd_prefix": "rm(",
     "library": "var_list.r",
     "varRefreshCmd": "cat(var_dic_list()) "
    }
   },
   "types_to_exclude": [
    "module",
    "function",
    "builtin_function_or_method",
    "instance",
    "_Feature"
   ],
   "window_display": false
  }
 },
 "nbformat": 4,
 "nbformat_minor": 5
}
